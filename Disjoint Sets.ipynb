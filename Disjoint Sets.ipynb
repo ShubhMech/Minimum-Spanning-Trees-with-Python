{
 "cells": [
  {
   "cell_type": "code",
   "execution_count": 42,
   "id": "6ba36f5f-57a3-4c8d-88d4-4cbbd3eba06f",
   "metadata": {},
   "outputs": [],
   "source": [
    "class Disjoint:\n",
    "    def __init__(self,vertices):\n",
    "        self.vertices= vertices\n",
    "        self.parent={}\n",
    "        for v in self.vertices:\n",
    "            self.parent[v]= v\n",
    "        self.rank= dict.fromkeys(self.vertices,0)\n"
   ]
  },
  {
   "cell_type": "code",
   "execution_count": 45,
   "id": "5222c922-7e7b-43d0-8ade-387baabd6c80",
   "metadata": {},
   "outputs": [],
   "source": [
    "vertices = [\"A\", \"B\", \"C\", \"D\", \"E\",\"F\"]\n",
    "\n",
    "ob1=Disjoint(vertices)"
   ]
  },
  {
   "cell_type": "code",
   "execution_count": 46,
   "id": "331687f6-84a9-4aef-becb-4e1af2db38b1",
   "metadata": {},
   "outputs": [
    {
     "data": {
      "text/plain": [
       "{'A': 0, 'B': 0, 'C': 0, 'D': 0, 'E': 0, 'F': 0}"
      ]
     },
     "execution_count": 46,
     "metadata": {},
     "output_type": "execute_result"
    }
   ],
   "source": [
    "ob1.rank"
   ]
  },
  {
   "cell_type": "code",
   "execution_count": 48,
   "id": "76320c2f-7cb5-44d8-9bfe-240a296a3176",
   "metadata": {},
   "outputs": [
    {
     "data": {
      "text/plain": [
       "{'A': 'A', 'B': 'B', 'C': 'C', 'D': 'D', 'E': 'E', 'F': 'F'}"
      ]
     },
     "execution_count": 48,
     "metadata": {},
     "output_type": "execute_result"
    }
   ],
   "source": [
    "ob1.parent"
   ]
  },
  {
   "cell_type": "code",
   "execution_count": 49,
   "id": "ddfaf813-d88d-4cfb-97eb-af22787ce419",
   "metadata": {},
   "outputs": [],
   "source": [
    "class Disjoint:\n",
    "    def __init__(self,vertices):\n",
    "        self.vertices= vertices\n",
    "        self.parent={}\n",
    "        for v in self.vertices:\n",
    "            self.parent[v]= v\n",
    "        self.rank= dict.fromkeys(self.vertices,0)\n",
    "    def find_parent(self,v):\n",
    "        if self.parent[v]== v:\n",
    "            return v\n",
    "        else:\n",
    "            return self.find_parent(self.parent[v])"
   ]
  },
  {
   "cell_type": "code",
   "execution_count": 50,
   "id": "ea289bbd-4586-49fe-9adf-e01493b40849",
   "metadata": {},
   "outputs": [],
   "source": [
    "class Disjoint:\n",
    "    def __init__(self,vertices):\n",
    "        self.vertices= vertices\n",
    "        self.parent={}\n",
    "        for v in self.vertices:\n",
    "            self.parent[v]= v\n",
    "        self.rank= dict.fromkeys(self.vertices,0)\n",
    "    def find_parent(self,v):\n",
    "        if self.parent[v]== v:\n",
    "            return v\n",
    "        else:\n",
    "            return self.find_parent(self.parent[v])\n",
    "        \n",
    "    \n",
    "    def union(self,x, y):\n",
    "        x_par= self.find_parent(x)\n",
    "        y_par= self.find_parent(y)\n",
    "        \n",
    "        if self.rank[x_par]== self.rank[y_par]:\n",
    "            self.parent[y_par]= x_par\n",
    "            self.rank[x_par] += 1\n",
    "            \n",
    "        elif self.rank[x_par]> self.rank[y_par]:\n",
    "            self.parent[y_par]= x_par\n",
    "            \n",
    "                \n",
    "         \n",
    "        else:\n",
    "            self.parent[x_par] = y_par\n",
    "                          \n",
    "     "
   ]
  },
  {
   "cell_type": "code",
   "execution_count": 52,
   "id": "2c01b220-ee49-4bd6-86c5-78fcf00c7a62",
   "metadata": {},
   "outputs": [
    {
     "name": "stdout",
     "output_type": "stream",
     "text": [
      "A\n"
     ]
    }
   ],
   "source": [
    "vertices = [\"A\", \"B\", \"C\", \"D\", \"E\",\"F\"]\n",
    "\n",
    "ds = Disjoint(vertices)\n",
    "ds.union(\"A\", \"B\")\n",
    "ds.union(\"A\", \"C\")\n",
    "print(ds.find_parent(\"A\"))"
   ]
  },
  {
   "cell_type": "code",
   "execution_count": 53,
   "id": "70b425e4-fcb2-4de2-9913-0e271392fe60",
   "metadata": {},
   "outputs": [
    {
     "data": {
      "text/plain": [
       "{'A': 1, 'B': 0, 'C': 0, 'D': 0, 'E': 0, 'F': 0}"
      ]
     },
     "execution_count": 53,
     "metadata": {},
     "output_type": "execute_result"
    }
   ],
   "source": [
    "ds.rank"
   ]
  },
  {
   "cell_type": "code",
   "execution_count": 54,
   "id": "16057601-e0bd-4e25-80cc-adab1b829a0a",
   "metadata": {},
   "outputs": [
    {
     "data": {
      "text/plain": [
       "{'A': 'A', 'B': 'A', 'C': 'A', 'D': 'D', 'E': 'E', 'F': 'F'}"
      ]
     },
     "execution_count": 54,
     "metadata": {},
     "output_type": "execute_result"
    }
   ],
   "source": [
    "ds.parent"
   ]
  },
  {
   "cell_type": "code",
   "execution_count": null,
   "id": "8adbdda5-6650-43f5-af1a-2250d7e084f7",
   "metadata": {},
   "outputs": [],
   "source": []
  }
 ],
 "metadata": {
  "kernelspec": {
   "display_name": "Python 3",
   "language": "python",
   "name": "python3"
  },
  "language_info": {
   "codemirror_mode": {
    "name": "ipython",
    "version": 3
   },
   "file_extension": ".py",
   "mimetype": "text/x-python",
   "name": "python",
   "nbconvert_exporter": "python",
   "pygments_lexer": "ipython3",
   "version": "3.8.5"
  }
 },
 "nbformat": 4,
 "nbformat_minor": 5
}
