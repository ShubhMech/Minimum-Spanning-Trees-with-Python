{
 "cells": [
  {
   "cell_type": "code",
   "execution_count": null,
   "id": "fb5f2168-5ac9-46a1-ae4b-f6d94ed5f3ad",
   "metadata": {},
   "outputs": [],
   "source": [
    "\n",
    "\n",
    "class Graph:\n",
    "    def __init__(self, vnum, edges, nodes):\n",
    "        self.edges=edges\n",
    "        self.nodes= nodes\n",
    "        self.num= vnum\n",
    "        self.MST=[]\n",
    "        \n",
    "        \n",
    "    def printSolution(self):\n",
    "        print(\"Edge : Weight\")\n",
    "        for s, d, w in self.MST:\n",
    "            print(\"%s -> %s: %s\" % (s, d, w))\n",
    "\n",
    "\n",
    "    def prims_algo(self):\n",
    "        visited=[0]*self.num\n",
    "        e = 0\n",
    "        visited[0]= True\n",
    "\n",
    "        while e < self.num -1 :\n",
    "            min= 1e100\n",
    "            \n",
    "            for i in range(self.num):\n",
    "                if visited[i]:\n",
    "                    for j in range(self.num):\n",
    "                        if not visited[j] and self.edges[i][j]:\n",
    "                            if min> self.edges[i][j]:\n",
    "                                min= self.edges[i][j]\n",
    "                                s = i\n",
    "                                d = j\n",
    "            visited[d]= True\n",
    "\n",
    "            e += 1\n",
    "\n",
    "            self.MST.append([self.nodes[s], self.nodes[d], self.edges[s][d]])\n",
    "            \n",
    "        self.printSolution()\n",
    "                        \n",
    "            \n",
    "            \n",
    "\n",
    "\n",
    "edges = [[0, 10, 20, 0, 0],\n",
    "        [10, 0, 30, 5, 0],\n",
    "        [20, 30, 0, 15, 6],\n",
    "        [0, 5, 15, 0, 8],\n",
    "        [0, 0, 6, 8, 0]]\n",
    "nodes = [\"A\",\"B\",\"C\",\"D\",\"E\"]\n",
    "g = Graph(5, edges, nodes)\n",
    "g.prims_algo()"
   ]
  }
 ],
 "metadata": {
  "kernelspec": {
   "display_name": "Python 3",
   "language": "python",
   "name": "python3"
  },
  "language_info": {
   "name": ""
  }
 },
 "nbformat": 4,
 "nbformat_minor": 5
}
